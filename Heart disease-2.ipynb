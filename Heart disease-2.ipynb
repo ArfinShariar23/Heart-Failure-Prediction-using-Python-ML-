{
  "nbformat": 4,
  "nbformat_minor": 0,
  "metadata": {
    "colab": {
      "name": "CSE316 (AI LAB FINAL PROJECT).ipynb",
      "provenance": [],
      "include_colab_link": true
    },
    "kernelspec": {
      "name": "python3",
      "display_name": "Python 3"
    },
    "language_info": {
      "name": "python"
    }
  },
  "cells": [
    {
      "cell_type": "markdown",
      "metadata": {
        "id": "view-in-github",
        "colab_type": "text"
      },
      "source": [
        "<a href=\"https://colab.research.google.com/github/ArfinShariar23/Machine-Learning-Code/blob/main/Heart%20disease-2.ipynb\" target=\"_parent\"><img src=\"https://colab.research.google.com/assets/colab-badge.svg\" alt=\"Open In Colab\"/></a>"
      ]
    },
    {
      "cell_type": "markdown",
      "source": [
        "# ***Heart Failure Prediction Using Python***  \n",
        "\n",
        "### **About this dataset**\n",
        "Cardiovascular diseases (CVDs) are the number 1 cause of death globally, taking an estimated 17.9 million lives each year, which accounts for 31% of all deaths worlwide.\n",
        "Heart failure is a common event caused by CVDs and this dataset contains 12 features that can be used to predict mortality by heart failure.\n",
        "\n",
        "Most cardiovascular diseases can be prevented by addressing behavioural risk factors such as tobacco use, unhealthy diet and obesity, physical inactivity and harmful use of alcohol using population-wide strategies.\n",
        "\n",
        "People with cardiovascular disease or who are at high cardiovascular risk (due to the presence of one or more risk factors such as hypertension, diabetes, hyperlipidaemia or already established disease) need early detection and management wherein a machine learning model can be of great help."
      ],
      "metadata": {
        "id": "MHIK_GNKF9IA"
      }
    },
    {
      "cell_type": "markdown",
      "source": [
        "### **Developed By**"
      ],
      "metadata": {
        "id": "uu3z_FS4GUCr"
      }
    },
    {
      "cell_type": "markdown",
      "source": [
        "# **TEAM VIBRANIUM**\n",
        "\n",
        ">>> Sadia Jannat (201-15-3136) \n",
        "\n",
        ">>> Arfin Shariar (201-15-3316)\n",
        "\n",
        ">>> Aflatul Kawser (201-15-3500)\n",
        "\n",
        ">>> Maynul Haque Jim (201-15-3067)\n",
        "\n",
        ">>> Istiyak Ifti (201-15-3086)\n",
        "\n",
        ">>> Sk Radoun Rifat (201-15-3542)"
      ],
      "metadata": {
        "id": "QvqhOdJNEsp6"
      }
    },
    {
      "cell_type": "markdown",
      "source": [
        "# **CODING**"
      ],
      "metadata": {
        "id": "voAJMa2TMLC-"
      }
    },
    {
      "cell_type": "markdown",
      "source": [
        "                  CODE START FROM HERE\n",
        "                  --------------------\n",
        "\n",
        "---\n",
        "\n"
      ],
      "metadata": {
        "id": "t1tjIXQRHlnA"
      }
    },
    {
      "cell_type": "code",
      "execution_count": null,
      "metadata": {
        "id": "J9wwgZvmEFGj"
      },
      "outputs": [],
      "source": [
        "#Import Essiential Python Libraries and Module Here\n",
        "import pandas as pd\n",
        "import numpy as np\n",
        "import matplotlib.pyplot as plt\n",
        "import seaborn as sb"
      ]
    },
    {
      "cell_type": "code",
      "source": [
        "from sklearn.model_selection import train_test_split\n",
        "from sklearn.preprocessing import StandardScaler"
      ],
      "metadata": {
        "id": "VDtK8Kd4VhTO"
      },
      "execution_count": null,
      "outputs": []
    },
    {
      "cell_type": "code",
      "source": [
        "from sklearn.linear_model import LogisticRegression\n",
        "from sklearn import metrics\n",
        "from sklearn.svm import SVC\n",
        "from sklearn.naive_bayes import GaussianNB\n",
        "from sklearn.ensemble import RandomForestClassifier\n",
        "from sklearn.tree import DecisionTreeClassifier\n",
        "from sklearn.neighbors import KNeighborsClassifier\n",
        "from sklearn.ensemble import AdaBoostClassifier"
      ],
      "metadata": {
        "id": "Jj7so1ezmKY0"
      },
      "execution_count": null,
      "outputs": []
    },
    {
      "cell_type": "code",
      "source": [
        "# Drive Mounting\n",
        "from google.colab import drive\n",
        "drive.mount('/content/drive')"
      ],
      "metadata": {
        "colab": {
          "base_uri": "https://localhost:8080/"
        },
        "id": "9jVsZg7iMRv_",
        "outputId": "85550c71-f6bf-4c68-bfab-9c5e0a378c13"
      },
      "execution_count": null,
      "outputs": [
        {
          "output_type": "stream",
          "name": "stdout",
          "text": [
            "Mounted at /content/drive\n"
          ]
        }
      ]
    },
    {
      "cell_type": "code",
      "source": [
        "#Read Dataset CSV File\n",
        "data_set = pd.read_csv(\"/content/drive/MyDrive/Colab Notebooks/Machine Learning/heart_failure_clinical_records_dataset.csv\")"
      ],
      "metadata": {
        "id": "uuEJgyirNbO5"
      },
      "execution_count": null,
      "outputs": []
    },
    {
      "cell_type": "code",
      "source": [
        "#Output of Dataset\n",
        "data_set"
      ],
      "metadata": {
        "colab": {
          "base_uri": "https://localhost:8080/",
          "height": 423
        },
        "id": "vjyKxD9WNyZn",
        "outputId": "c95e04dc-a019-4171-b9f8-683fc7cb1225"
      },
      "execution_count": null,
      "outputs": [
        {
          "output_type": "execute_result",
          "data": {
            "text/plain": [
              "      age  anaemia  creatinine_phosphokinase  diabetes  ejection_fraction  \\\n",
              "0    75.0        0                       582         0                 20   \n",
              "1    55.0        0                      7861         0                 38   \n",
              "2    65.0        0                       146         0                 20   \n",
              "3    50.0        1                       111         0                 20   \n",
              "4    65.0        1                       160         1                 20   \n",
              "..    ...      ...                       ...       ...                ...   \n",
              "294  62.0        0                        61         1                 38   \n",
              "295  55.0        0                      1820         0                 38   \n",
              "296  45.0        0                      2060         1                 60   \n",
              "297  45.0        0                      2413         0                 38   \n",
              "298  50.0        0                       196         0                 45   \n",
              "\n",
              "     high_blood_pressure  platelets  serum_creatinine  serum_sodium  sex  \\\n",
              "0                      1  265000.00               1.9           130    1   \n",
              "1                      0  263358.03               1.1           136    1   \n",
              "2                      0  162000.00               1.3           129    1   \n",
              "3                      0  210000.00               1.9           137    1   \n",
              "4                      0  327000.00               2.7           116    0   \n",
              "..                   ...        ...               ...           ...  ...   \n",
              "294                    1  155000.00               1.1           143    1   \n",
              "295                    0  270000.00               1.2           139    0   \n",
              "296                    0  742000.00               0.8           138    0   \n",
              "297                    0  140000.00               1.4           140    1   \n",
              "298                    0  395000.00               1.6           136    1   \n",
              "\n",
              "     smoking  time  DEATH_EVENT  \n",
              "0          0     4            1  \n",
              "1          0     6            1  \n",
              "2          1     7            1  \n",
              "3          0     7            1  \n",
              "4          0     8            1  \n",
              "..       ...   ...          ...  \n",
              "294        1   270            0  \n",
              "295        0   271            0  \n",
              "296        0   278            0  \n",
              "297        1   280            0  \n",
              "298        1   285            0  \n",
              "\n",
              "[299 rows x 13 columns]"
            ],
            "text/html": [
              "\n",
              "  <div id=\"df-2a9a172f-f5b7-4605-99e2-0804057eef0d\">\n",
              "    <div class=\"colab-df-container\">\n",
              "      <div>\n",
              "<style scoped>\n",
              "    .dataframe tbody tr th:only-of-type {\n",
              "        vertical-align: middle;\n",
              "    }\n",
              "\n",
              "    .dataframe tbody tr th {\n",
              "        vertical-align: top;\n",
              "    }\n",
              "\n",
              "    .dataframe thead th {\n",
              "        text-align: right;\n",
              "    }\n",
              "</style>\n",
              "<table border=\"1\" class=\"dataframe\">\n",
              "  <thead>\n",
              "    <tr style=\"text-align: right;\">\n",
              "      <th></th>\n",
              "      <th>age</th>\n",
              "      <th>anaemia</th>\n",
              "      <th>creatinine_phosphokinase</th>\n",
              "      <th>diabetes</th>\n",
              "      <th>ejection_fraction</th>\n",
              "      <th>high_blood_pressure</th>\n",
              "      <th>platelets</th>\n",
              "      <th>serum_creatinine</th>\n",
              "      <th>serum_sodium</th>\n",
              "      <th>sex</th>\n",
              "      <th>smoking</th>\n",
              "      <th>time</th>\n",
              "      <th>DEATH_EVENT</th>\n",
              "    </tr>\n",
              "  </thead>\n",
              "  <tbody>\n",
              "    <tr>\n",
              "      <th>0</th>\n",
              "      <td>75.0</td>\n",
              "      <td>0</td>\n",
              "      <td>582</td>\n",
              "      <td>0</td>\n",
              "      <td>20</td>\n",
              "      <td>1</td>\n",
              "      <td>265000.00</td>\n",
              "      <td>1.9</td>\n",
              "      <td>130</td>\n",
              "      <td>1</td>\n",
              "      <td>0</td>\n",
              "      <td>4</td>\n",
              "      <td>1</td>\n",
              "    </tr>\n",
              "    <tr>\n",
              "      <th>1</th>\n",
              "      <td>55.0</td>\n",
              "      <td>0</td>\n",
              "      <td>7861</td>\n",
              "      <td>0</td>\n",
              "      <td>38</td>\n",
              "      <td>0</td>\n",
              "      <td>263358.03</td>\n",
              "      <td>1.1</td>\n",
              "      <td>136</td>\n",
              "      <td>1</td>\n",
              "      <td>0</td>\n",
              "      <td>6</td>\n",
              "      <td>1</td>\n",
              "    </tr>\n",
              "    <tr>\n",
              "      <th>2</th>\n",
              "      <td>65.0</td>\n",
              "      <td>0</td>\n",
              "      <td>146</td>\n",
              "      <td>0</td>\n",
              "      <td>20</td>\n",
              "      <td>0</td>\n",
              "      <td>162000.00</td>\n",
              "      <td>1.3</td>\n",
              "      <td>129</td>\n",
              "      <td>1</td>\n",
              "      <td>1</td>\n",
              "      <td>7</td>\n",
              "      <td>1</td>\n",
              "    </tr>\n",
              "    <tr>\n",
              "      <th>3</th>\n",
              "      <td>50.0</td>\n",
              "      <td>1</td>\n",
              "      <td>111</td>\n",
              "      <td>0</td>\n",
              "      <td>20</td>\n",
              "      <td>0</td>\n",
              "      <td>210000.00</td>\n",
              "      <td>1.9</td>\n",
              "      <td>137</td>\n",
              "      <td>1</td>\n",
              "      <td>0</td>\n",
              "      <td>7</td>\n",
              "      <td>1</td>\n",
              "    </tr>\n",
              "    <tr>\n",
              "      <th>4</th>\n",
              "      <td>65.0</td>\n",
              "      <td>1</td>\n",
              "      <td>160</td>\n",
              "      <td>1</td>\n",
              "      <td>20</td>\n",
              "      <td>0</td>\n",
              "      <td>327000.00</td>\n",
              "      <td>2.7</td>\n",
              "      <td>116</td>\n",
              "      <td>0</td>\n",
              "      <td>0</td>\n",
              "      <td>8</td>\n",
              "      <td>1</td>\n",
              "    </tr>\n",
              "    <tr>\n",
              "      <th>...</th>\n",
              "      <td>...</td>\n",
              "      <td>...</td>\n",
              "      <td>...</td>\n",
              "      <td>...</td>\n",
              "      <td>...</td>\n",
              "      <td>...</td>\n",
              "      <td>...</td>\n",
              "      <td>...</td>\n",
              "      <td>...</td>\n",
              "      <td>...</td>\n",
              "      <td>...</td>\n",
              "      <td>...</td>\n",
              "      <td>...</td>\n",
              "    </tr>\n",
              "    <tr>\n",
              "      <th>294</th>\n",
              "      <td>62.0</td>\n",
              "      <td>0</td>\n",
              "      <td>61</td>\n",
              "      <td>1</td>\n",
              "      <td>38</td>\n",
              "      <td>1</td>\n",
              "      <td>155000.00</td>\n",
              "      <td>1.1</td>\n",
              "      <td>143</td>\n",
              "      <td>1</td>\n",
              "      <td>1</td>\n",
              "      <td>270</td>\n",
              "      <td>0</td>\n",
              "    </tr>\n",
              "    <tr>\n",
              "      <th>295</th>\n",
              "      <td>55.0</td>\n",
              "      <td>0</td>\n",
              "      <td>1820</td>\n",
              "      <td>0</td>\n",
              "      <td>38</td>\n",
              "      <td>0</td>\n",
              "      <td>270000.00</td>\n",
              "      <td>1.2</td>\n",
              "      <td>139</td>\n",
              "      <td>0</td>\n",
              "      <td>0</td>\n",
              "      <td>271</td>\n",
              "      <td>0</td>\n",
              "    </tr>\n",
              "    <tr>\n",
              "      <th>296</th>\n",
              "      <td>45.0</td>\n",
              "      <td>0</td>\n",
              "      <td>2060</td>\n",
              "      <td>1</td>\n",
              "      <td>60</td>\n",
              "      <td>0</td>\n",
              "      <td>742000.00</td>\n",
              "      <td>0.8</td>\n",
              "      <td>138</td>\n",
              "      <td>0</td>\n",
              "      <td>0</td>\n",
              "      <td>278</td>\n",
              "      <td>0</td>\n",
              "    </tr>\n",
              "    <tr>\n",
              "      <th>297</th>\n",
              "      <td>45.0</td>\n",
              "      <td>0</td>\n",
              "      <td>2413</td>\n",
              "      <td>0</td>\n",
              "      <td>38</td>\n",
              "      <td>0</td>\n",
              "      <td>140000.00</td>\n",
              "      <td>1.4</td>\n",
              "      <td>140</td>\n",
              "      <td>1</td>\n",
              "      <td>1</td>\n",
              "      <td>280</td>\n",
              "      <td>0</td>\n",
              "    </tr>\n",
              "    <tr>\n",
              "      <th>298</th>\n",
              "      <td>50.0</td>\n",
              "      <td>0</td>\n",
              "      <td>196</td>\n",
              "      <td>0</td>\n",
              "      <td>45</td>\n",
              "      <td>0</td>\n",
              "      <td>395000.00</td>\n",
              "      <td>1.6</td>\n",
              "      <td>136</td>\n",
              "      <td>1</td>\n",
              "      <td>1</td>\n",
              "      <td>285</td>\n",
              "      <td>0</td>\n",
              "    </tr>\n",
              "  </tbody>\n",
              "</table>\n",
              "<p>299 rows × 13 columns</p>\n",
              "</div>\n",
              "      <button class=\"colab-df-convert\" onclick=\"convertToInteractive('df-2a9a172f-f5b7-4605-99e2-0804057eef0d')\"\n",
              "              title=\"Convert this dataframe to an interactive table.\"\n",
              "              style=\"display:none;\">\n",
              "        \n",
              "  <svg xmlns=\"http://www.w3.org/2000/svg\" height=\"24px\"viewBox=\"0 0 24 24\"\n",
              "       width=\"24px\">\n",
              "    <path d=\"M0 0h24v24H0V0z\" fill=\"none\"/>\n",
              "    <path d=\"M18.56 5.44l.94 2.06.94-2.06 2.06-.94-2.06-.94-.94-2.06-.94 2.06-2.06.94zm-11 1L8.5 8.5l.94-2.06 2.06-.94-2.06-.94L8.5 2.5l-.94 2.06-2.06.94zm10 10l.94 2.06.94-2.06 2.06-.94-2.06-.94-.94-2.06-.94 2.06-2.06.94z\"/><path d=\"M17.41 7.96l-1.37-1.37c-.4-.4-.92-.59-1.43-.59-.52 0-1.04.2-1.43.59L10.3 9.45l-7.72 7.72c-.78.78-.78 2.05 0 2.83L4 21.41c.39.39.9.59 1.41.59.51 0 1.02-.2 1.41-.59l7.78-7.78 2.81-2.81c.8-.78.8-2.07 0-2.86zM5.41 20L4 18.59l7.72-7.72 1.47 1.35L5.41 20z\"/>\n",
              "  </svg>\n",
              "      </button>\n",
              "      \n",
              "  <style>\n",
              "    .colab-df-container {\n",
              "      display:flex;\n",
              "      flex-wrap:wrap;\n",
              "      gap: 12px;\n",
              "    }\n",
              "\n",
              "    .colab-df-convert {\n",
              "      background-color: #E8F0FE;\n",
              "      border: none;\n",
              "      border-radius: 50%;\n",
              "      cursor: pointer;\n",
              "      display: none;\n",
              "      fill: #1967D2;\n",
              "      height: 32px;\n",
              "      padding: 0 0 0 0;\n",
              "      width: 32px;\n",
              "    }\n",
              "\n",
              "    .colab-df-convert:hover {\n",
              "      background-color: #E2EBFA;\n",
              "      box-shadow: 0px 1px 2px rgba(60, 64, 67, 0.3), 0px 1px 3px 1px rgba(60, 64, 67, 0.15);\n",
              "      fill: #174EA6;\n",
              "    }\n",
              "\n",
              "    [theme=dark] .colab-df-convert {\n",
              "      background-color: #3B4455;\n",
              "      fill: #D2E3FC;\n",
              "    }\n",
              "\n",
              "    [theme=dark] .colab-df-convert:hover {\n",
              "      background-color: #434B5C;\n",
              "      box-shadow: 0px 1px 3px 1px rgba(0, 0, 0, 0.15);\n",
              "      filter: drop-shadow(0px 1px 2px rgba(0, 0, 0, 0.3));\n",
              "      fill: #FFFFFF;\n",
              "    }\n",
              "  </style>\n",
              "\n",
              "      <script>\n",
              "        const buttonEl =\n",
              "          document.querySelector('#df-2a9a172f-f5b7-4605-99e2-0804057eef0d button.colab-df-convert');\n",
              "        buttonEl.style.display =\n",
              "          google.colab.kernel.accessAllowed ? 'block' : 'none';\n",
              "\n",
              "        async function convertToInteractive(key) {\n",
              "          const element = document.querySelector('#df-2a9a172f-f5b7-4605-99e2-0804057eef0d');\n",
              "          const dataTable =\n",
              "            await google.colab.kernel.invokeFunction('convertToInteractive',\n",
              "                                                     [key], {});\n",
              "          if (!dataTable) return;\n",
              "\n",
              "          const docLinkHtml = 'Like what you see? Visit the ' +\n",
              "            '<a target=\"_blank\" href=https://colab.research.google.com/notebooks/data_table.ipynb>data table notebook</a>'\n",
              "            + ' to learn more about interactive tables.';\n",
              "          element.innerHTML = '';\n",
              "          dataTable['output_type'] = 'display_data';\n",
              "          await google.colab.output.renderOutput(dataTable, element);\n",
              "          const docLink = document.createElement('div');\n",
              "          docLink.innerHTML = docLinkHtml;\n",
              "          element.appendChild(docLink);\n",
              "        }\n",
              "      </script>\n",
              "    </div>\n",
              "  </div>\n",
              "  "
            ]
          },
          "metadata": {},
          "execution_count": 6
        }
      ]
    },
    {
      "cell_type": "code",
      "source": [
        "#Checking the Info of Dataset\n",
        "data_set.info()"
      ],
      "metadata": {
        "colab": {
          "base_uri": "https://localhost:8080/"
        },
        "id": "CS04d3-NOo9V",
        "outputId": "fb1f0bb6-9414-44ee-f731-6f2b042009d8"
      },
      "execution_count": null,
      "outputs": [
        {
          "output_type": "stream",
          "name": "stdout",
          "text": [
            "<class 'pandas.core.frame.DataFrame'>\n",
            "RangeIndex: 299 entries, 0 to 298\n",
            "Data columns (total 13 columns):\n",
            " #   Column                    Non-Null Count  Dtype  \n",
            "---  ------                    --------------  -----  \n",
            " 0   age                       299 non-null    float64\n",
            " 1   anaemia                   299 non-null    int64  \n",
            " 2   creatinine_phosphokinase  299 non-null    int64  \n",
            " 3   diabetes                  299 non-null    int64  \n",
            " 4   ejection_fraction         299 non-null    int64  \n",
            " 5   high_blood_pressure       299 non-null    int64  \n",
            " 6   platelets                 299 non-null    float64\n",
            " 7   serum_creatinine          299 non-null    float64\n",
            " 8   serum_sodium              299 non-null    int64  \n",
            " 9   sex                       299 non-null    int64  \n",
            " 10  smoking                   299 non-null    int64  \n",
            " 11  time                      299 non-null    int64  \n",
            " 12  DEATH_EVENT               299 non-null    int64  \n",
            "dtypes: float64(3), int64(10)\n",
            "memory usage: 30.5 KB\n"
          ]
        }
      ]
    },
    {
      "cell_type": "code",
      "source": [
        "#Shape of Our Dataset\n",
        "data_set.shape"
      ],
      "metadata": {
        "colab": {
          "base_uri": "https://localhost:8080/"
        },
        "id": "Y62ZmUiv7Ulx",
        "outputId": "263ab6cb-0b9b-4a0b-ead5-0ee3f2dd2698"
      },
      "execution_count": null,
      "outputs": [
        {
          "output_type": "execute_result",
          "data": {
            "text/plain": [
              "(299, 13)"
            ]
          },
          "metadata": {},
          "execution_count": 8
        }
      ]
    },
    {
      "cell_type": "markdown",
      "source": [
        "### **Output Justify:**\n",
        "--------------- \n",
        "\n",
        "We Have 299 rows and 13 Columns on our Dataset"
      ],
      "metadata": {
        "id": "w-oGjPkjgiit"
      }
    },
    {
      "cell_type": "markdown",
      "source": [
        "# **Data PreProcessing Part**\n",
        "-----"
      ],
      "metadata": {
        "id": "Vj0Qfs76Dx1d"
      }
    },
    {
      "cell_type": "code",
      "source": [
        "#Checking Dataset contains any null value or not\n",
        "data_set.isnull().sum()"
      ],
      "metadata": {
        "colab": {
          "base_uri": "https://localhost:8080/"
        },
        "id": "tIvppDD3PGwj",
        "outputId": "c4ab16ef-033f-4685-d474-75b4fcfaf7a4"
      },
      "execution_count": null,
      "outputs": [
        {
          "output_type": "execute_result",
          "data": {
            "text/plain": [
              "age                         0\n",
              "anaemia                     0\n",
              "creatinine_phosphokinase    0\n",
              "diabetes                    0\n",
              "ejection_fraction           0\n",
              "high_blood_pressure         0\n",
              "platelets                   0\n",
              "serum_creatinine            0\n",
              "serum_sodium                0\n",
              "sex                         0\n",
              "smoking                     0\n",
              "time                        0\n",
              "DEATH_EVENT                 0\n",
              "dtype: int64"
            ]
          },
          "metadata": {},
          "execution_count": 9
        }
      ]
    },
    {
      "cell_type": "markdown",
      "source": [
        "### **Output Justify:**\n",
        "--------------------------\n",
        "Our Dataset Contains No Null Value. So We don't need to handle missing value or Null Value for our data set."
      ],
      "metadata": {
        "id": "d_dqrmejhEQX"
      }
    },
    {
      "cell_type": "code",
      "source": [
        "#Divide Dataset In 2 Split\n",
        "\n",
        "x = data_set.iloc[:,0:-1].values # x is our Independent Variable\n",
        "\n",
        "y = data_set.iloc[:,-1].values # y is our Dependent Variable. Its always dependent on x.\n"
      ],
      "metadata": {
        "id": "g_YJJCCqsmhb"
      },
      "execution_count": null,
      "outputs": []
    },
    {
      "cell_type": "code",
      "source": [
        "x_train,x_test,y_train,y_test = train_test_split(x,y,test_size = 0.3, random_state = 0)"
      ],
      "metadata": {
        "id": "OY28VmWILDfG"
      },
      "execution_count": null,
      "outputs": []
    },
    {
      "cell_type": "markdown",
      "source": [
        "### **Standard Scaling**\n",
        "________"
      ],
      "metadata": {
        "id": "xTKq1H59KRS4"
      }
    },
    {
      "cell_type": "code",
      "source": [
        "#Standard Scaler\n",
        "st_x = StandardScaler()\n",
        "x_train = st_x.fit_transform(x_train)\n",
        "x_test = st_x.fit_transform(x_test)"
      ],
      "metadata": {
        "id": "azVmSZ_UTbC5"
      },
      "execution_count": null,
      "outputs": []
    },
    {
      "cell_type": "markdown",
      "source": [
        "### **Label Encoding**\n",
        "______________________\n",
        "Our Dataset contains all values numeric. There is no string value in our Data set. So, Label Encoding not need for our Data Set."
      ],
      "metadata": {
        "id": "zxFDMk1YEMXH"
      }
    },
    {
      "cell_type": "markdown",
      "source": [
        "### **One Hot Encoding**\n",
        "_______________\n",
        "\n",
        "We also no need of use One_Hot_Encoder"
      ],
      "metadata": {
        "id": "twqU-_iOEzhH"
      }
    },
    {
      "cell_type": "markdown",
      "source": [
        "# **Logestic Regression**\n",
        "-----------\n"
      ],
      "metadata": {
        "id": "A6L5c3vQU5qO"
      }
    },
    {
      "cell_type": "code",
      "source": [
        "LR = LogisticRegression(random_state = 0)"
      ],
      "metadata": {
        "id": "P8MY-QL-zVcG"
      },
      "execution_count": null,
      "outputs": []
    },
    {
      "cell_type": "code",
      "source": [
        "LR.fit(x_train,y_train)"
      ],
      "metadata": {
        "colab": {
          "base_uri": "https://localhost:8080/"
        },
        "id": "NYsyEBahqR-e",
        "outputId": "ce3ea4b4-baea-462f-d98a-6f9d0edefb5d"
      },
      "execution_count": null,
      "outputs": [
        {
          "output_type": "execute_result",
          "data": {
            "text/plain": [
              "LogisticRegression(random_state=0)"
            ]
          },
          "metadata": {},
          "execution_count": 14
        }
      ]
    },
    {
      "cell_type": "code",
      "source": [
        "y_predict_LR = LR.predict(x_test)"
      ],
      "metadata": {
        "id": "YdmuPfB5rJEW"
      },
      "execution_count": null,
      "outputs": []
    },
    {
      "cell_type": "code",
      "source": [
        "y_predict_LR"
      ],
      "metadata": {
        "colab": {
          "base_uri": "https://localhost:8080/"
        },
        "id": "DJklHn5srjOU",
        "outputId": "4ae3e015-ac3c-4cdc-cb2c-7068625f2d8f"
      },
      "execution_count": null,
      "outputs": [
        {
          "output_type": "execute_result",
          "data": {
            "text/plain": [
              "array([0, 0, 1, 0, 0, 0, 1, 0, 1, 0, 0, 1, 0, 0, 1, 1, 0, 0, 0, 0, 0, 1,\n",
              "       1, 0, 0, 0, 0, 0, 0, 0, 0, 1, 0, 0, 0, 0, 0, 0, 0, 1, 0, 0, 0, 0,\n",
              "       1, 0, 0, 0, 0, 1, 0, 0, 0, 0, 1, 0, 0, 1, 0, 0, 1, 0, 0, 0, 0, 0,\n",
              "       0, 0, 1, 1, 0, 0, 0, 1, 1, 0, 1, 0, 0, 0, 0, 0, 0, 0, 0, 0, 0, 0,\n",
              "       0, 0])"
            ]
          },
          "metadata": {},
          "execution_count": 16
        }
      ]
    },
    {
      "cell_type": "code",
      "source": [
        "#Report Analysis for Logistic Regression\n",
        "print(\"Report Analysis for Logistic Regression\")\n",
        "print(\"----------------------------------------\")\n",
        "#Confusion Matrics\n",
        "print(\"Confusion Matrix: \\n\",metrics.confusion_matrix(y_test,y_predict_LR))"
      ],
      "metadata": {
        "colab": {
          "base_uri": "https://localhost:8080/"
        },
        "id": "jYiI3NE0ruPb",
        "outputId": "c45c1c64-75d1-46b2-8378-ba80287882e6"
      },
      "execution_count": null,
      "outputs": [
        {
          "output_type": "stream",
          "name": "stdout",
          "text": [
            "Report Analysis for Logistic Regression\n",
            "----------------------------------------\n",
            "Confusion Matrix: \n",
            " [[58  4]\n",
            " [12 16]]\n"
          ]
        }
      ]
    },
    {
      "cell_type": "code",
      "source": [
        "#Accuracy Report\n",
        "print(\"Accuracy in Point value: \",metrics.accuracy_score(y_test,y_predict_LR))\n",
        "print(\"Accuracy in Percentage Value: \",metrics.accuracy_score(y_test,y_predict_LR)*100 )\n"
      ],
      "metadata": {
        "colab": {
          "base_uri": "https://localhost:8080/"
        },
        "id": "rB-j1l5ys1dk",
        "outputId": "d7ff6008-b592-414c-a187-c4bdcd6f1cc8"
      },
      "execution_count": null,
      "outputs": [
        {
          "output_type": "stream",
          "name": "stdout",
          "text": [
            "Accuracy in Point value:  0.8222222222222222\n",
            "Accuracy in Percentage Value:  82.22222222222221\n"
          ]
        }
      ]
    },
    {
      "cell_type": "code",
      "source": [
        "#Classification Report\n",
        "print(\"Classification Report: \\n\",metrics.classification_report(y_test,y_predict_LR))"
      ],
      "metadata": {
        "colab": {
          "base_uri": "https://localhost:8080/"
        },
        "id": "ZOBOkGxE1Jwt",
        "outputId": "b27fa1a4-5a98-4819-96e3-f19ed7569527"
      },
      "execution_count": null,
      "outputs": [
        {
          "output_type": "stream",
          "name": "stdout",
          "text": [
            "Classification Report: \n",
            "               precision    recall  f1-score   support\n",
            "\n",
            "           0       0.83      0.94      0.88        62\n",
            "           1       0.80      0.57      0.67        28\n",
            "\n",
            "    accuracy                           0.82        90\n",
            "   macro avg       0.81      0.75      0.77        90\n",
            "weighted avg       0.82      0.82      0.81        90\n",
            "\n"
          ]
        }
      ]
    },
    {
      "cell_type": "code",
      "source": [
        "#ROC & AOC CURVE VISUALIZATION\n",
        "y_predict_prob = LR.predict_proba(x_test)[:,1]\n",
        "LR_AOC = metrics.roc_auc_score(y_test,y_predict_prob)\n",
        "print(\"AUC SCORE: \",LR_AOC)"
      ],
      "metadata": {
        "colab": {
          "base_uri": "https://localhost:8080/"
        },
        "id": "i8YWtlTS1vWk",
        "outputId": "7d8641f1-f8dc-4f9d-8f4a-e7c486fa9a83"
      },
      "execution_count": null,
      "outputs": [
        {
          "output_type": "stream",
          "name": "stdout",
          "text": [
            "AUC SCORE:  0.8582949308755761\n"
          ]
        }
      ]
    },
    {
      "cell_type": "code",
      "source": [
        "False_PR,True_PR,thresholdvalues = metrics.roc_curve(y_test,y_predict_prob)\n",
        "plt.plot([0,1],[0,1],color='yellow',linestyle='--')\n",
        "print(\"Logistic Regression (area= \" +str(LR_AOC)+\")\")\n",
        "plt.plot(False_PR,True_PR)\n",
        "plt.xlabel(\"False Positive Rate\")\n",
        "plt.ylabel(\"True Positive Rate\")\n",
        "plt.show()"
      ],
      "metadata": {
        "colab": {
          "base_uri": "https://localhost:8080/",
          "height": 296
        },
        "id": "3e5RVZwH5UO_",
        "outputId": "56d0546a-271a-4b1f-e668-bb3a5acfc845"
      },
      "execution_count": null,
      "outputs": [
        {
          "output_type": "stream",
          "name": "stdout",
          "text": [
            "Logistic Regression (area= 0.8582949308755761)\n"
          ]
        },
        {
          "output_type": "display_data",
          "data": {
            "text/plain": [
              "<Figure size 432x288 with 1 Axes>"
            ],
            "image/png": "[encoded data removed]"
          },
          "metadata": {
            "needs_background": "light"
          }
        }
      ]
    },
    {
      "cell_type": "code",
      "source": [
        "print(\"The End Of Logistic Regression\")"
      ],
      "metadata": {
        "colab": {
          "base_uri": "https://localhost:8080/"
        },
        "id": "XRyW6Vpd7LJs",
        "outputId": "af768164-9a4f-42f9-b933-d9560b11fdd7"
      },
      "execution_count": null,
      "outputs": [
        {
          "output_type": "stream",
          "name": "stdout",
          "text": [
            "The End Of Logistic Regression\n"
          ]
        }
      ]
    },
    {
      "cell_type": "markdown",
      "source": [
        "# **Support Vector Classifier (SVC)** **& ROC AND AOC CURVE**\n",
        "\n",
        "\n",
        "\n"
      ],
      "metadata": {
        "id": "GfO6KKKtMY87"
      }
    },
    {
      "cell_type": "code",
      "source": [
        "# Apllying Support Vector Machine\n",
        "sm = SVC(probability = True)\n",
        "sm.fit(x_train,y_train)"
      ],
      "metadata": {
        "colab": {
          "base_uri": "https://localhost:8080/"
        },
        "id": "Q0BlwfaZQoRh",
        "outputId": "2c4413f8-f9d5-429b-cf9a-d972ea2d614a"
      },
      "execution_count": null,
      "outputs": [
        {
          "output_type": "execute_result",
          "data": {
            "text/plain": [
              "SVC(probability=True)"
            ]
          },
          "metadata": {},
          "execution_count": 22
        }
      ]
    },
    {
      "cell_type": "code",
      "source": [
        "y_predict_sm = sm.predict(x_test)"
      ],
      "metadata": {
        "id": "gi1LlUEgQurz"
      },
      "execution_count": null,
      "outputs": []
    },
    {
      "cell_type": "code",
      "source": [
        "y_predict_sm"
      ],
      "metadata": {
        "colab": {
          "base_uri": "https://localhost:8080/"
        },
        "id": "yM2QvCSLc-UZ",
        "outputId": "21162d86-9323-4c6b-a080-91cdef96a1db"
      },
      "execution_count": null,
      "outputs": [
        {
          "output_type": "execute_result",
          "data": {
            "text/plain": [
              "array([0, 0, 1, 0, 0, 0, 1, 0, 1, 0, 0, 1, 0, 0, 1, 1, 0, 0, 0, 0, 0, 1,\n",
              "       1, 0, 0, 0, 0, 0, 0, 0, 0, 1, 0, 0, 1, 0, 0, 0, 0, 1, 0, 0, 0, 0,\n",
              "       1, 0, 0, 0, 1, 0, 0, 0, 0, 0, 1, 1, 0, 1, 0, 0, 1, 0, 0, 0, 0, 0,\n",
              "       0, 0, 1, 1, 0, 0, 0, 1, 1, 0, 1, 0, 0, 0, 0, 0, 0, 0, 0, 0, 0, 0,\n",
              "       0, 0])"
            ]
          },
          "metadata": {},
          "execution_count": 25
        }
      ]
    },
    {
      "cell_type": "code",
      "source": [
        "#Report Analysis for Support Vector Machine(SVC):\n",
        "print(\"Report Analysis for Support Vector Machine(SVC):\")\n",
        "print(\"-------------------------------------------------\")\n",
        "#Confusion Matrics\n",
        "print(\"Confusion Matrix: \\n\",metrics.confusion_matrix(y_test,y_predict_sm))"
      ],
      "metadata": {
        "colab": {
          "base_uri": "https://localhost:8080/"
        },
        "id": "nBzJk0wYdEbS",
        "outputId": "06bcd333-0059-4c12-9bc3-8d0b794f5904"
      },
      "execution_count": null,
      "outputs": [
        {
          "output_type": "stream",
          "name": "stdout",
          "text": [
            "Report Analysis for Support Vector Machine(SVC):\n",
            "-------------------------------------------------\n",
            "Confusion Matrix: \n",
            " [[58  4]\n",
            " [10 18]]\n"
          ]
        }
      ]
    },
    {
      "cell_type": "code",
      "source": [
        "#Accuracy Report\n",
        "print(\"Accuracy in Point value: \",metrics.accuracy_score(y_test,y_predict_sm))\n",
        "print(\"Accuracy in Percentage Value: \",metrics.accuracy_score(y_test,y_predict_sm)*100 )\n"
      ],
      "metadata": {
        "colab": {
          "base_uri": "https://localhost:8080/"
        },
        "id": "y7UUMOgKeSjb",
        "outputId": "e9d4e60e-a671-4016-ecf9-72eb19dae522"
      },
      "execution_count": null,
      "outputs": [
        {
          "output_type": "stream",
          "name": "stdout",
          "text": [
            "Accuracy in Point value:  0.8444444444444444\n",
            "Accuracy in Percentage Value:  84.44444444444444\n"
          ]
        }
      ]
    },
    {
      "cell_type": "code",
      "source": [
        "#Classification Report\n",
        "print(\"Classification Report: \\n\",metrics.classification_report(y_test,y_predict_sm))"
      ],
      "metadata": {
        "colab": {
          "base_uri": "https://localhost:8080/"
        },
        "id": "4nE7C_C6e0Fm",
        "outputId": "c88dbdeb-707a-44c8-8dc3-93365331590c"
      },
      "execution_count": null,
      "outputs": [
        {
          "output_type": "stream",
          "name": "stdout",
          "text": [
            "Classification Report: \n",
            "               precision    recall  f1-score   support\n",
            "\n",
            "           0       0.85      0.94      0.89        62\n",
            "           1       0.82      0.64      0.72        28\n",
            "\n",
            "    accuracy                           0.84        90\n",
            "   macro avg       0.84      0.79      0.81        90\n",
            "weighted avg       0.84      0.84      0.84        90\n",
            "\n"
          ]
        }
      ]
    },
    {
      "cell_type": "code",
      "source": [
        "#ROC & AOC CURVE VISUALIZATION\n",
        "y_predict_sm_prob = sm.predict_proba(x_test)[:,1]\n",
        "sm_AOC = metrics.roc_auc_score(y_test,y_predict_sm_prob)\n",
        "print(\"AUC SCORE: \",sm_AOC)"
      ],
      "metadata": {
        "colab": {
          "base_uri": "https://localhost:8080/"
        },
        "id": "5nIqMe6Wkbi-",
        "outputId": "503ba2fa-277a-4b00-d6d3-5d496ed6ef60"
      },
      "execution_count": null,
      "outputs": [
        {
          "output_type": "stream",
          "name": "stdout",
          "text": [
            "AUC SCORE:  0.8790322580645161\n"
          ]
        }
      ]
    },
    {
      "cell_type": "code",
      "source": [
        "F_PR,T_PR,thresholdvalues = metrics.roc_curve(y_test,y_predict_sm_prob)\n",
        "plt.plot([0,1],[0,1],color='Green',linestyle='--')\n",
        "print(\"Support Vector Classifier (area= \" +str(sm_AOC)+\")\")\n",
        "plt.plot(F_PR,T_PR)\n",
        "plt.xlabel(\"False Positive Rate\")\n",
        "plt.ylabel(\"True Positive Rate\")\n",
        "plt.show()"
      ],
      "metadata": {
        "colab": {
          "base_uri": "https://localhost:8080/",
          "height": 296
        },
        "id": "kfR_IDCskya9",
        "outputId": "d67342f1-c3b2-4202-a520-18e549736d21"
      },
      "execution_count": null,
      "outputs": [
        {
          "output_type": "stream",
          "name": "stdout",
          "text": [
            "Support Vector Classifier (area= 0.8790322580645161)\n"
          ]
        },
        {
          "output_type": "display_data",
          "data": {
            "text/plain": [
              "<Figure size 432x288 with 1 Axes>"
            ],
            "image/png": "[encoded data removed]"
          },
          "metadata": {
            "needs_background": "light"
          }
        }
      ]
    },
    {
      "cell_type": "code",
      "source": [
        "print(\"End of Support Vector Classifier\")"
      ],
      "metadata": {
        "colab": {
          "base_uri": "https://localhost:8080/"
        },
        "id": "KZ1xwhZWlx0p",
        "outputId": "2c72fa35-06e3-4d76-b967-115644d167d3"
      },
      "execution_count": null,
      "outputs": [
        {
          "output_type": "stream",
          "name": "stdout",
          "text": [
            "End of Support Vector Classifier\n"
          ]
        }
      ]
    },
    {
      "cell_type": "markdown",
      "source": [
        "# **Naive Bayes & ROC CURVE**"
      ],
      "metadata": {
        "id": "0Ro0OJ-ao_K_"
      }
    },
    {
      "cell_type": "code",
      "source": [
        "#Apply Naive Bayes\n",
        "gnb = GaussianNB()\n",
        "gnb.fit(x_train,y_train)"
      ],
      "metadata": {
        "colab": {
          "base_uri": "https://localhost:8080/"
        },
        "id": "6lw9Moh5o-FI",
        "outputId": "c622ea3b-eebe-4271-9295-ae90de48669c"
      },
      "execution_count": null,
      "outputs": [
        {
          "output_type": "execute_result",
          "data": {
            "text/plain": [
              "GaussianNB()"
            ]
          },
          "metadata": {},
          "execution_count": 89
        }
      ]
    },
    {
      "cell_type": "code",
      "source": [
        "y_gnb_predict = gnb.predict(x_test)"
      ],
      "metadata": {
        "id": "TBg68fExpteE"
      },
      "execution_count": null,
      "outputs": []
    },
    {
      "cell_type": "code",
      "source": [
        "print(\"Report Analysis for Gaussian Naive Bayes\")\n",
        "print(\"----------------------------------------\")\n",
        "#Confusion Matrix\n",
        "print(\"Confusion Matrix: \\n\",metrics.confusion_matrix(y_test,y_gnb_predict))"
      ],
      "metadata": {
        "colab": {
          "base_uri": "https://localhost:8080/"
        },
        "id": "9UjKxdMDp1t6",
        "outputId": "66b08e54-f236-41e6-fc64-a176a9e75761"
      },
      "execution_count": null,
      "outputs": [
        {
          "output_type": "stream",
          "name": "stdout",
          "text": [
            "Report Analysis for Gaussian Naive Bayes\n",
            "----------------------------------------\n",
            "Confusion Matrix: \n",
            " [[56  6]\n",
            " [17 11]]\n"
          ]
        }
      ]
    },
    {
      "cell_type": "code",
      "source": [
        "#Accuracy Check\n",
        "print('Accuracy in point Value: ',metrics.accuracy_score(y_test,y_gnb_predict))\n",
        "print(\"Accuracy in Parcentage Value: \",metrics.accuracy_score(y_test,y_gnb_predict)*100)"
      ],
      "metadata": {
        "colab": {
          "base_uri": "https://localhost:8080/"
        },
        "id": "CoM1cRqRqUj9",
        "outputId": "2e4dd03c-fe81-4532-8fba-5eb9437d4021"
      },
      "execution_count": null,
      "outputs": [
        {
          "output_type": "stream",
          "name": "stdout",
          "text": [
            "Accuracy in point Value:  0.7444444444444445\n",
            "Accuracy in Parcentage Value:  74.44444444444444\n"
          ]
        }
      ]
    },
    {
      "cell_type": "code",
      "source": [
        "#Classification Report\n",
        "print(\"Classfication Report for Gaussian Naive Bayes: \\n\",metrics.classification_report(y_test,y_gnb_predict))"
      ],
      "metadata": {
        "colab": {
          "base_uri": "https://localhost:8080/"
        },
        "id": "wlfMMdThqySe",
        "outputId": "b2211fec-6a2e-48dd-f8f9-057759553447"
      },
      "execution_count": null,
      "outputs": [
        {
          "output_type": "stream",
          "name": "stdout",
          "text": [
            "Classfication Report for Gaussian Naive Bayes: \n",
            "               precision    recall  f1-score   support\n",
            "\n",
            "           0       0.77      0.90      0.83        62\n",
            "           1       0.65      0.39      0.49        28\n",
            "\n",
            "    accuracy                           0.74        90\n",
            "   macro avg       0.71      0.65      0.66        90\n",
            "weighted avg       0.73      0.74      0.72        90\n",
            "\n"
          ]
        }
      ]
    },
    {
      "cell_type": "code",
      "source": [
        "#AOC Score\n",
        "y_pred_gnb_prob = gnb.predict_proba(x_test)[:,1]\n",
        "gnb_aoc = metrics.roc_auc_score(y_test,y_pred_gnb_prob)\n",
        "print(\"AOC Score: \",gnb_aoc)"
      ],
      "metadata": {
        "colab": {
          "base_uri": "https://localhost:8080/"
        },
        "id": "L9TMcfQirKrd",
        "outputId": "40fe8bcf-bebc-4b1a-f5a0-67a7a55b2259"
      },
      "execution_count": null,
      "outputs": [
        {
          "output_type": "stream",
          "name": "stdout",
          "text": [
            "AOC Score:  0.8525345622119815\n"
          ]
        }
      ]
    },
    {
      "cell_type": "code",
      "source": [
        "#ROC Curve\n",
        "f_positive_r,t_positive_r,thresholdvalues = metrics.roc_curve(y_test,y_pred_gnb_prob)\n",
        "plt.plot([0,1],[0,1],color = 'BLACK',linestyle = '--')\n",
        "print(\"Gaussian Naive Bayes (area= \" +str(gnb_aoc)+\")\")\n",
        "plt.plot(f_positive_r,t_positive_r)\n",
        "plt.xlabel(\"False Positive Rate\")\n",
        "plt.ylabel(\"True Positive Rate\")\n",
        "plt.show()"
      ],
      "metadata": {
        "colab": {
          "base_uri": "https://localhost:8080/",
          "height": 296
        },
        "id": "TSgvYbxPrWaz",
        "outputId": "3d0b49ec-a86e-4c9d-a8dc-4645bcdab353"
      },
      "execution_count": null,
      "outputs": [
        {
          "output_type": "stream",
          "name": "stdout",
          "text": [
            "Gaussian Naive Bayes (area= 0.8525345622119815)\n"
          ]
        },
        {
          "output_type": "display_data",
          "data": {
            "text/plain": [
              "<Figure size 432x288 with 1 Axes>"
            ],
            "image/png": "[encoded data removed]"
          },
          "metadata": {
            "needs_background": "light"
          }
        }
      ]
    },
    {
      "cell_type": "markdown",
      "source": [
        "# **Random Forest & ROC AOC CURVE**"
      ],
      "metadata": {
        "id": "ts7Dm2LYU3tV"
      }
    },
    {
      "cell_type": "code",
      "source": [
        "#Applying Random Forest\n",
        "RF = RandomForestClassifier(n_estimators=10,criterion=\"entropy\")\n",
        "RF.fit(x_train,y_train)"
      ],
      "metadata": {
        "colab": {
          "base_uri": "https://localhost:8080/"
        },
        "id": "DoY8HutdVFNk",
        "outputId": "06d30e25-17a6-44b0-9c17-c18af2cbe8c5"
      },
      "execution_count": null,
      "outputs": [
        {
          "output_type": "execute_result",
          "data": {
            "text/plain": [
              "RandomForestClassifier(criterion='entropy', n_estimators=10)"
            ]
          },
          "metadata": {},
          "execution_count": 51
        }
      ]
    },
    {
      "cell_type": "code",
      "source": [
        "y_RF_pred = RF.predict(x_test)"
      ],
      "metadata": {
        "id": "u7yjLEeKWxR5"
      },
      "execution_count": null,
      "outputs": []
    },
    {
      "cell_type": "code",
      "source": [
        "print(\"Report Analysis for Random Forest(with 10 decision tree)\")\n",
        "print(\"---------------------------------------------------------\")\n",
        "#Confusion Matrix\n",
        "print(\"Confusion Matrix: \\n\",metrics.confusion_matrix(y_test,y_RF_pred))"
      ],
      "metadata": {
        "colab": {
          "base_uri": "https://localhost:8080/"
        },
        "id": "lLVaHq5qW77W",
        "outputId": "aa0e9a0b-2ab8-4fcb-af03-47dc6342e5de"
      },
      "execution_count": null,
      "outputs": [
        {
          "output_type": "stream",
          "name": "stdout",
          "text": [
            "Report Analysis for Random Forest(with 10 decision tree)\n",
            "---------------------------------------------------------\n",
            "Confusion Matrix: \n",
            " [[57  5]\n",
            " [11 17]]\n"
          ]
        }
      ]
    },
    {
      "cell_type": "code",
      "source": [
        "#Accurcy Check\n",
        "print(\"Accuracy in point value: \",metrics.accuracy_score(y_test,y_RF_pred))\n",
        "print(\"Accuracy in Percentage value: \",metrics.accuracy_score(y_test,y_RF_pred)*100)"
      ],
      "metadata": {
        "colab": {
          "base_uri": "https://localhost:8080/"
        },
        "id": "BGMoulfEXoTi",
        "outputId": "48adea1d-241a-4c2a-bcd9-15bd6a177050"
      },
      "execution_count": null,
      "outputs": [
        {
          "output_type": "stream",
          "name": "stdout",
          "text": [
            "Accuracy in point value:  0.8222222222222222\n",
            "Accuracy in Percentage value:  82.22222222222221\n"
          ]
        }
      ]
    },
    {
      "cell_type": "code",
      "source": [
        "#Classification Report\n",
        "print(\"Classification Report for Random Forest: \\n\",metrics.classification_report(y_test,y_RF_pred))"
      ],
      "metadata": {
        "colab": {
          "base_uri": "https://localhost:8080/"
        },
        "id": "sUONY3zYYJu6",
        "outputId": "9ab2149d-459b-4db9-dc6e-41d9446ab40f"
      },
      "execution_count": null,
      "outputs": [
        {
          "output_type": "stream",
          "name": "stdout",
          "text": [
            "Classification Report for Random Forest: \n",
            "               precision    recall  f1-score   support\n",
            "\n",
            "           0       0.84      0.92      0.88        62\n",
            "           1       0.77      0.61      0.68        28\n",
            "\n",
            "    accuracy                           0.82        90\n",
            "   macro avg       0.81      0.76      0.78        90\n",
            "weighted avg       0.82      0.82      0.82        90\n",
            "\n"
          ]
        }
      ]
    },
    {
      "cell_type": "code",
      "source": [
        "y_pred_RF_prob = RF.predict_proba(x_test)[:,1]\n",
        "RF_aoc = metrics.roc_auc_score(y_test,y_pred_RF_prob)\n",
        "print(\"AOC Score: \",RF_aoc)"
      ],
      "metadata": {
        "colab": {
          "base_uri": "https://localhost:8080/"
        },
        "id": "bs7xG1oRYuyB",
        "outputId": "cf9efe53-2f8d-4601-d6c1-0c1a7cfbd684"
      },
      "execution_count": null,
      "outputs": [
        {
          "output_type": "stream",
          "name": "stdout",
          "text": [
            "AOC Score:  0.8735599078341014\n"
          ]
        }
      ]
    },
    {
      "cell_type": "code",
      "source": [
        "f_p_r,t_p_r,thresholdvalues = metrics.roc_curve(y_test,y_pred_RF_prob)\n",
        "plt.plot([0,1],[0,1],color = 'BLACK',linestyle = '--')\n",
        "print(\"Random Forest Classifier (area= \" +str(RF_aoc)+\")\")\n",
        "plt.plot(f_p_r,t_p_r)\n",
        "plt.xlabel(\"False Positive Rate\")\n",
        "plt.ylabel(\"True Positive Rate\")\n",
        "plt.show()"
      ],
      "metadata": {
        "colab": {
          "base_uri": "https://localhost:8080/",
          "height": 296
        },
        "id": "TeDu3VFgZplV",
        "outputId": "c4b90d4a-b126-4120-904e-55c9a040c98f"
      },
      "execution_count": null,
      "outputs": [
        {
          "output_type": "stream",
          "name": "stdout",
          "text": [
            "Random Forest Classifier (area= 0.8735599078341014)\n"
          ]
        },
        {
          "output_type": "display_data",
          "data": {
            "text/plain": [
              "<Figure size 432x288 with 1 Axes>"
            ],
            "image/png": "[encoded data removed]"
          },
          "metadata": {
            "needs_background": "light"
          }
        }
      ]
    },
    {
      "cell_type": "code",
      "source": [
        "print(\"The End of Random Forest Classfier\")"
      ],
      "metadata": {
        "colab": {
          "base_uri": "https://localhost:8080/"
        },
        "id": "WPoJs7pobhTJ",
        "outputId": "b30bf108-f1ea-4c83-fb7a-68607a6e6b88"
      },
      "execution_count": null,
      "outputs": [
        {
          "output_type": "stream",
          "name": "stdout",
          "text": [
            "The End of Random Forest Classfier\n"
          ]
        }
      ]
    },
    {
      "cell_type": "markdown",
      "source": [
        "# **Decision Tree** & ROC CURVE DRAW\n"
      ],
      "metadata": {
        "id": "e_cartKtfDkk"
      }
    },
    {
      "cell_type": "code",
      "source": [
        "#Aapplying Decision Tree\n",
        "dt = DecisionTreeClassifier(criterion=\"entropy\",random_state = 0)\n",
        "dt.fit(x_train,y_train)"
      ],
      "metadata": {
        "colab": {
          "base_uri": "https://localhost:8080/"
        },
        "id": "aEBrGpFJfIMt",
        "outputId": "7cfbe35f-09d4-487e-f5dd-dd1a78732d4d"
      },
      "execution_count": null,
      "outputs": [
        {
          "output_type": "execute_result",
          "data": {
            "text/plain": [
              "DecisionTreeClassifier(criterion='entropy', random_state=0)"
            ]
          },
          "metadata": {},
          "execution_count": 62
        }
      ]
    },
    {
      "cell_type": "code",
      "source": [
        "y_dt_pred = dt.predict(x_test)"
      ],
      "metadata": {
        "id": "rSsRLCPoaPA0"
      },
      "execution_count": null,
      "outputs": []
    },
    {
      "cell_type": "code",
      "source": [
        "#Report Analysis for Decision Tree\n",
        "#Confusion Matrix\n",
        "print(\"Report Analysis for Decision Tree\")\n",
        "print(\"----------------------------------\")\n",
        "print(\"Confusion Matrix:\\n\",metrics.confusion_matrix(y_test,y_dt_pred))"
      ],
      "metadata": {
        "colab": {
          "base_uri": "https://localhost:8080/"
        },
        "id": "Wa9h305ggH8m",
        "outputId": "72637f6f-33e9-4cfe-9274-a9a361b43a1e"
      },
      "execution_count": null,
      "outputs": [
        {
          "output_type": "stream",
          "name": "stdout",
          "text": [
            "Report Analysis for Decision Tree\n",
            "----------------------------------\n",
            "Confusion Matrix:\n",
            " [[52 10]\n",
            " [ 7 21]]\n"
          ]
        }
      ]
    },
    {
      "cell_type": "code",
      "source": [
        "#Accuracy Report\n",
        "print(\"Accuracy Report in Point Value: \",metrics.accuracy_score(y_test,y_dt_pred))\n",
        "print(\"Accuracy Report in Percentage Value: \",metrics.accuracy_score(y_test,y_dt_pred)*100)"
      ],
      "metadata": {
        "colab": {
          "base_uri": "https://localhost:8080/"
        },
        "id": "k7zgY83Mgt23",
        "outputId": "a7eb3424-08bf-44de-c410-3872abf3640b"
      },
      "execution_count": null,
      "outputs": [
        {
          "output_type": "stream",
          "name": "stdout",
          "text": [
            "Accuracy Report in Point Value:  0.8111111111111111\n",
            "Accuracy Report in Percentage Value:  81.11111111111111\n"
          ]
        }
      ]
    },
    {
      "cell_type": "code",
      "source": [
        "#Classification Report\n",
        "print(\"Classificaition Report for Decision Tree:\\n\",metrics.classification_report(y_test,y_dt_pred))"
      ],
      "metadata": {
        "colab": {
          "base_uri": "https://localhost:8080/"
        },
        "id": "WQjNVctchRrb",
        "outputId": "39f763dd-a9ae-4543-b2dc-aa1936f04043"
      },
      "execution_count": null,
      "outputs": [
        {
          "output_type": "stream",
          "name": "stdout",
          "text": [
            "Classificaition Report for Decision Tree:\n",
            "               precision    recall  f1-score   support\n",
            "\n",
            "           0       0.88      0.84      0.86        62\n",
            "           1       0.68      0.75      0.71        28\n",
            "\n",
            "    accuracy                           0.81        90\n",
            "   macro avg       0.78      0.79      0.79        90\n",
            "weighted avg       0.82      0.81      0.81        90\n",
            "\n"
          ]
        }
      ]
    },
    {
      "cell_type": "code",
      "source": [
        "#ROC & AOC CURVE VISUALIZATION\n",
        "y_predict_dt_prob = dt.predict_proba(x_test)[:,1]\n",
        "dt_AOC = metrics.roc_auc_score(y_test,y_predict_dt_prob)\n",
        "print(\"AUC SCORE: \",dt_AOC)"
      ],
      "metadata": {
        "colab": {
          "base_uri": "https://localhost:8080/"
        },
        "id": "epxpUtG3hmOt",
        "outputId": "9edd3140-ba42-4b01-93be-cd3f6c06cbcb"
      },
      "execution_count": null,
      "outputs": [
        {
          "output_type": "stream",
          "name": "stdout",
          "text": [
            "AUC SCORE:  0.7943548387096775\n"
          ]
        }
      ]
    },
    {
      "cell_type": "code",
      "source": [
        "FPR,TPR,thresholdvalues = metrics.roc_curve(y_test,y_predict_dt_prob)\n",
        "plt.plot([0,1],[0,1],color='grey',linestyle='--')\n",
        "print(\"Decision Tree Classifier (area= \" +str(dt_AOC)+\")\")\n",
        "plt.plot(FPR,TPR)\n",
        "plt.xlabel(\"False Positive Rate\")\n",
        "plt.ylabel(\"True Positive Rate\")\n",
        "plt.show()"
      ],
      "metadata": {
        "colab": {
          "base_uri": "https://localhost:8080/",
          "height": 296
        },
        "id": "ocBfN0VPiBms",
        "outputId": "52db6173-7707-4629-f97b-e228bb9cfef0"
      },
      "execution_count": null,
      "outputs": [
        {
          "output_type": "stream",
          "name": "stdout",
          "text": [
            "Decision Tree Classifier (area= 0.7943548387096775)\n"
          ]
        },
        {
          "output_type": "display_data",
          "data": {
            "text/plain": [
              "<Figure size 432x288 with 1 Axes>"
            ],
            "image/png": "[encoded data removed]"
          },
          "metadata": {
            "needs_background": "light"
          }
        }
      ]
    },
    {
      "cell_type": "markdown",
      "source": [
        "# **K-Nearist Neighbour & ROC,AOC CURVE**"
      ],
      "metadata": {
        "id": "_SN95y3X6_3Y"
      }
    },
    {
      "cell_type": "code",
      "source": [
        "# Applying KNN in Data_Set\n",
        "kn = KNeighborsClassifier(n_neighbors=5,metric = 'minkowski', p=2)"
      ],
      "metadata": {
        "id": "s99n0twA68Fa"
      },
      "execution_count": null,
      "outputs": []
    },
    {
      "cell_type": "code",
      "source": [
        "kn.fit(x_train,y_train)"
      ],
      "metadata": {
        "colab": {
          "base_uri": "https://localhost:8080/"
        },
        "id": "gaORxlk1WDT9",
        "outputId": "3e6f8263-0d02-4832-8571-677194d453f0"
      },
      "execution_count": null,
      "outputs": [
        {
          "output_type": "execute_result",
          "data": {
            "text/plain": [
              "KNeighborsClassifier()"
            ]
          },
          "metadata": {},
          "execution_count": 41
        }
      ]
    },
    {
      "cell_type": "code",
      "source": [
        "y_kn_predict = kn.predict(x_test)"
      ],
      "metadata": {
        "id": "TmFIttgvWJcT"
      },
      "execution_count": null,
      "outputs": []
    },
    {
      "cell_type": "code",
      "source": [
        "## Report Analysis for K-Nearist neighbours(KNN)\n",
        "#Confusion Matrix\n",
        "print(\"Report Analysis for K-Nearist neighbours(KNN)\")\n",
        "print(\"-----------------------------------------------\")\n",
        "print(\"Confusion Matrix:\\n\",metrics.confusion_matrix(y_test,y_kn_predict))"
      ],
      "metadata": {
        "colab": {
          "base_uri": "https://localhost:8080/"
        },
        "id": "RkaTXtCPW16B",
        "outputId": "d4c8c514-a185-4d30-a581-4e582926f6df"
      },
      "execution_count": null,
      "outputs": [
        {
          "output_type": "stream",
          "name": "stdout",
          "text": [
            "Report Analysis for K-Nearist neighbours(KNN)\n",
            "-----------------------------------------------\n",
            "Confusion Matrix:\n",
            " [[59  3]\n",
            " [17 11]]\n"
          ]
        }
      ]
    },
    {
      "cell_type": "code",
      "source": [
        "#Accuracy Check\n",
        "print(\"Accuracy Report in point value: \",metrics.accuracy_score(y_test,y_kn_predict))\n",
        "print(\"Accuracy Report in Percentage: \",metrics.accuracy_score(y_test,y_kn_predict)*100)"
      ],
      "metadata": {
        "colab": {
          "base_uri": "https://localhost:8080/"
        },
        "id": "fsapeMdiXwdP",
        "outputId": "89046591-47de-4491-c999-2eae539e521b"
      },
      "execution_count": null,
      "outputs": [
        {
          "output_type": "stream",
          "name": "stdout",
          "text": [
            "Accuracy Report in point value:  0.7777777777777778\n",
            "Accuracy Report in Percentage:  77.77777777777779\n"
          ]
        }
      ]
    },
    {
      "cell_type": "code",
      "source": [
        "#Classification Report\n",
        "print(\"Classification Report:\\n\",metrics.classification_report(y_test,y_kn_predict))"
      ],
      "metadata": {
        "colab": {
          "base_uri": "https://localhost:8080/"
        },
        "id": "bnLUD8s1YaHa",
        "outputId": "10a3930e-a139-4ddc-8439-0e530c08284d"
      },
      "execution_count": null,
      "outputs": [
        {
          "output_type": "stream",
          "name": "stdout",
          "text": [
            "Classification Report:\n",
            "               precision    recall  f1-score   support\n",
            "\n",
            "           0       0.78      0.95      0.86        62\n",
            "           1       0.79      0.39      0.52        28\n",
            "\n",
            "    accuracy                           0.78        90\n",
            "   macro avg       0.78      0.67      0.69        90\n",
            "weighted avg       0.78      0.78      0.75        90\n",
            "\n"
          ]
        }
      ]
    },
    {
      "cell_type": "code",
      "source": [
        "#ROC and AOC CURVE Visualization for KNN\n",
        "y_predict_knn_prob = kn.predict_proba(x_test)[:,1]\n",
        "kn_AOC = metrics.roc_auc_score(y_test,y_predict_knn_prob)\n",
        "print(\"AUC SCORE: \",kn_AOC)"
      ],
      "metadata": {
        "colab": {
          "base_uri": "https://localhost:8080/"
        },
        "id": "JfugkIPSYz2X",
        "outputId": "e7fb7854-4513-4820-dc16-9b8bbb229b9d"
      },
      "execution_count": null,
      "outputs": [
        {
          "output_type": "stream",
          "name": "stdout",
          "text": [
            "AUC SCORE:  0.7508640552995391\n"
          ]
        }
      ]
    },
    {
      "cell_type": "code",
      "source": [
        "f_pr,t_pr,thresholdvalues = metrics.roc_curve(y_test,y_predict_knn_prob)\n",
        "plt.plot([0,1],[0,1],color='red',linestyle='--')\n",
        "print(\"K-Nearest Neighbours Classifier (area= \" +str(sm_AOC)+\")\")\n",
        "plt.plot(f_pr,t_pr)\n",
        "plt.xlabel(\"False Positive Rate\")\n",
        "plt.ylabel(\"True Positive Rate\")\n",
        "plt.show()"
      ],
      "metadata": {
        "colab": {
          "base_uri": "https://localhost:8080/",
          "height": 296
        },
        "id": "o816bRJUaTZS",
        "outputId": "cf12c7bc-7cc0-41a3-e94f-8867186a2b2e"
      },
      "execution_count": null,
      "outputs": [
        {
          "output_type": "stream",
          "name": "stdout",
          "text": [
            "K-Nearest Neighbours Classifier (area= 0.8790322580645161)\n"
          ]
        },
        {
          "output_type": "display_data",
          "data": {
            "text/plain": [
              "<Figure size 432x288 with 1 Axes>"
            ],
            "image/png": "[encoded data removed]"
          },
          "metadata": {
            "needs_background": "light"
          }
        }
      ]
    },
    {
      "cell_type": "code",
      "source": [
        "print(\"End of K-nearest Neighbours Algorithm\")"
      ],
      "metadata": {
        "colab": {
          "base_uri": "https://localhost:8080/"
        },
        "id": "RKTmpKMxa-6G",
        "outputId": "62e7a19e-d5d9-4f34-b00c-c5937f8c8989"
      },
      "execution_count": null,
      "outputs": [
        {
          "output_type": "stream",
          "name": "stdout",
          "text": [
            "End of K-nearest Neighbours Algorithm\n"
          ]
        }
      ]
    },
    {
      "cell_type": "markdown",
      "source": [
        "# **ADAboost apply and ROC & AOC CURVE draw**"
      ],
      "metadata": {
        "id": "0qdIaqPlbLQ5"
      }
    },
    {
      "cell_type": "code",
      "source": [
        "# Applying ADAboost Classifer\n",
        "ADBC = AdaBoostClassifier(n_estimators=50,learning_rate=1)\n",
        "ADBC.fit(x_train,y_train)"
      ],
      "metadata": {
        "colab": {
          "base_uri": "https://localhost:8080/"
        },
        "id": "gYs9gGCrb35l",
        "outputId": "ba93a9c0-a79f-4be9-8dab-460378532277"
      },
      "execution_count": null,
      "outputs": [
        {
          "output_type": "execute_result",
          "data": {
            "text/plain": [
              "AdaBoostClassifier(learning_rate=1)"
            ]
          },
          "metadata": {},
          "execution_count": 77
        }
      ]
    },
    {
      "cell_type": "code",
      "source": [
        "y_adbc_pred = ADBC.predict(x_test)"
      ],
      "metadata": {
        "id": "RQMl_6vrcfS7"
      },
      "execution_count": null,
      "outputs": []
    },
    {
      "cell_type": "code",
      "source": [
        "# Report Analysis for ADABoost Classifier\n",
        "print(\"Report Analysis for ADABoost Classfier\")\n",
        "print(\"---------------------------------------\")\n",
        "print(\"Confusion Matrix: \\n\",metrics.confusion_matrix(y_test,y_adbc_pred))"
      ],
      "metadata": {
        "colab": {
          "base_uri": "https://localhost:8080/"
        },
        "id": "pgZBEXpaczPn",
        "outputId": "c511c4dc-c11d-4deb-a9be-c44c0c8bc480"
      },
      "execution_count": null,
      "outputs": [
        {
          "output_type": "stream",
          "name": "stdout",
          "text": [
            "Report Analysis for ADABoost Classfier\n",
            "---------------------------------------\n",
            "Confusion Matrix: \n",
            " [[53  9]\n",
            " [ 8 20]]\n"
          ]
        }
      ]
    },
    {
      "cell_type": "code",
      "source": [
        "#Accuracy check\n",
        "print(\"Accuracy Report in Point Value: \",metrics.accuracy_score(y_test,y_adbc_pred))\n",
        "print(\"Accuracy Report in Percentage Value: \",metrics.accuracy_score(y_test,y_adbc_pred)*100)"
      ],
      "metadata": {
        "colab": {
          "base_uri": "https://localhost:8080/"
        },
        "id": "LElcaXXIdRqN",
        "outputId": "f59aeb6c-d98a-4131-8491-76bf2303604a"
      },
      "execution_count": null,
      "outputs": [
        {
          "output_type": "stream",
          "name": "stdout",
          "text": [
            "Accuracy Report in Point Value:  0.8111111111111111\n",
            "Accuracy Report in Percentage Value:  81.11111111111111\n"
          ]
        }
      ]
    },
    {
      "cell_type": "code",
      "source": [
        "#Classification Report\n",
        "print(\"Classsification Report: \\n\",metrics.classification_report(y_test,y_adbc_pred))"
      ],
      "metadata": {
        "colab": {
          "base_uri": "https://localhost:8080/"
        },
        "id": "t-3qsPJnd1pk",
        "outputId": "24cf510e-63c7-4e33-8ea2-520a2f4c6344"
      },
      "execution_count": null,
      "outputs": [
        {
          "output_type": "stream",
          "name": "stdout",
          "text": [
            "Classsification Report: \n",
            "               precision    recall  f1-score   support\n",
            "\n",
            "           0       0.87      0.85      0.86        62\n",
            "           1       0.69      0.71      0.70        28\n",
            "\n",
            "    accuracy                           0.81        90\n",
            "   macro avg       0.78      0.78      0.78        90\n",
            "weighted avg       0.81      0.81      0.81        90\n",
            "\n"
          ]
        }
      ]
    },
    {
      "cell_type": "code",
      "source": [
        "# ROC & AOC Visualization for ADABoost \n",
        "y_predict_adbc_prob = ADBC.predict_proba(x_test)[:,1]\n",
        "ADBC_AOC = metrics.roc_auc_score(y_test,y_predict_knn_prob)\n",
        "print(\"AUC SCORE: \",ADBC_AOC)"
      ],
      "metadata": {
        "colab": {
          "base_uri": "https://localhost:8080/"
        },
        "id": "2s0AF1heeI-k",
        "outputId": "fc1102c4-a4f6-40bf-ebc9-8ce6e0685058"
      },
      "execution_count": null,
      "outputs": [
        {
          "output_type": "stream",
          "name": "stdout",
          "text": [
            "AUC SCORE:  0.7508640552995391\n"
          ]
        }
      ]
    },
    {
      "cell_type": "code",
      "source": [
        "f_p_rate,t_p_rate,thresholdvalues = metrics.roc_curve(y_test,y_predict_adbc_prob)\n",
        "plt.plot([0,1],[0,1],color='RED',linestyle='--')\n",
        "print(\"ADABoost Classifier (area= \" +str(sm_AOC)+\")\")\n",
        "plt.plot(f_p_rate,t_p_rate)\n",
        "plt.xlabel(\"False Positive Rate\")\n",
        "plt.ylabel(\"True Positive Rate\")\n",
        "plt.show()"
      ],
      "metadata": {
        "colab": {
          "base_uri": "https://localhost:8080/",
          "height": 296
        },
        "id": "wLQ9QL3Noe16",
        "outputId": "2bb06f8d-f4dd-414b-8b3f-95b708caa1b6"
      },
      "execution_count": null,
      "outputs": [
        {
          "output_type": "stream",
          "name": "stdout",
          "text": [
            "ADABoost Classifier (area= 0.8790322580645161)\n"
          ]
        },
        {
          "output_type": "display_data",
          "data": {
            "text/plain": [
              "<Figure size 432x288 with 1 Axes>"
            ],
            "image/png": "[encoded data removed]"
          },
          "metadata": {
            "needs_background": "light"
          }
        }
      ]
    }
  ]
}